{
 "cells": [
  {
   "cell_type": "markdown",
   "metadata": {},
   "source": [
    "## esempio di calcolo: dato un punto sul piano, calcolarne la distanza euclidea dall'origine degli assi\n",
    "\n",
    "Soluzione: \n",
    "\n",
    "La distanza euclidea tra due punti è definita come:\n",
    "\n",
    "$$distance = \\sqrt{\\Delta y^2 + \\Delta x^2}$$\n",
    "\n",
    "Dove $$ \\Delta y $$ è la differenza tra le ordinate dei due punti, mentre $$ \\Delta x $$ è la differenza tra le ascisse"
   ]
  },
  {
   "cell_type": "code",
   "execution_count": 5,
   "metadata": {},
   "outputs": [
    {
     "name": "stdout",
     "output_type": "stream",
     "text": [
      "inserire un punto sul piano (formato: x,y)\n",
      "1,1\n",
      "distanza dall'origine degli assi del punto (1, 1) : 1.41421356237\n"
     ]
    }
   ],
   "source": [
    "import math\n",
    "def euclidean(p1,p2):\n",
    "    \n",
    "    deltay = p1[1] - p2[1]\n",
    "    deltax = p1[0] - p2[0]\n",
    "    \n",
    "    square_sum= math.pow(deltax,2) + math.pow(deltay , 2)\n",
    "    \n",
    "    return math.sqrt(square_sum)\n",
    "\n",
    "print \"inserire un punto sul piano (formato: x,y)\"\n",
    "point = input()\n",
    "\n",
    "distance = euclidean(point, (0,0))\n",
    "\n",
    "print \"distanza dall'origine degli assi del punto %s : %s\"%(point,distance)"
   ]
  },
  {
   "cell_type": "code",
   "execution_count": 3,
   "metadata": {},
   "outputs": [],
   "source": [
    "import json\n",
    "\n",
    "event_list =json.load(open('worldCup-final.json'))"
   ]
  },
  {
   "cell_type": "code",
   "execution_count": null,
   "metadata": {},
   "outputs": [],
   "source": []
  }
 ],
 "metadata": {
  "kernelspec": {
   "display_name": "Python 2",
   "language": "python",
   "name": "python2"
  },
  "language_info": {
   "codemirror_mode": {
    "name": "ipython",
    "version": 2
   },
   "file_extension": ".py",
   "mimetype": "text/x-python",
   "name": "python",
   "nbconvert_exporter": "python",
   "pygments_lexer": "ipython2",
   "version": "2.7.12"
  }
 },
 "nbformat": 4,
 "nbformat_minor": 1
}
